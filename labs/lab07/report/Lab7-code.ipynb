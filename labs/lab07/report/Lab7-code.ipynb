{
 "cells": [
  {
   "cell_type": "code",
   "execution_count": 1,
   "id": "17bb82ea-e65b-427a-bfbf-b2e9feb4bb91",
   "metadata": {},
   "outputs": [
    {
     "name": "stdout",
     "output_type": "stream",
     "text": [
      "Открытый текст:  С Новым Годом, друзья! \n",
      "Ключ:  v99hWo919aN5sYDPpqjTnE \n",
      "Шифротекст:  ї\u0019ФіѥФЅ\u0011ЪџѺЋяudѤавѝИСd \n",
      "Исходный текст:  С Новым Годом, друзья!\n",
      "Возможные ключи:  ['v99hWo9', 'иЄK[\\x16NЭ', '\\x05Ѷx\\x1a7њ\\x16', 'wх9;Уac', 'DЄ\\x18Я\\x18\\x14F', '\\x05ХЌ\\x14m17', '$17aH@s', 'аЊBD9\\x04щ', '\\x0bѿg5}ој', '~њ\\x16qчЯX', '[ЫRыі/\\x0c', '*ѯѨњV{\\x0e', 'nUѹZ\\x02ya', 'єDy\\x0e\\x00\\x16$', 'хф-\\x0coS\\x1d', 'EА/c*jј']\n",
      "Расшифрованный фрагмент:  С НовымgГѦВќРL\u0012ѝЉњЊѷИ\u0012\n"
     ]
    }
   ],
   "source": [
    "import random\n",
    "import string\n",
    "\n",
    "def generate_key_hex(text):\n",
    "    key = ''\n",
    "    for i in range(len(text)):\n",
    "        key += random.choice(string.ascii_letters + string.digits) #генерация цифры для каждого символа в тексте\n",
    "    return key\n",
    "\n",
    "#для шифрования и дешифрования\n",
    "def en_de_crypt(text, key):\n",
    "    new_text = ''\n",
    "    for i in range(len(text)): #проход по каждому символу в тексте\n",
    "        new_text += chr(ord(text[i]) ^ ord(key[i % len(key)]))\n",
    "    return new_text\n",
    "\n",
    "def find_possible_key(text, fragment):\n",
    "    possible_keys = []\n",
    "    for i in range(len(text) - len(fragment) + 1):\n",
    "        possible_key = \"\"\n",
    "        for j in range(len(fragment)):\n",
    "            possible_key += chr(ord(text[i + j]) ^ ord(fragment[j]))\n",
    "        possible_keys.append(possible_key)\n",
    "    return possible_keys\n",
    "\n",
    "t = 'С Новым Годом, друзья!'\n",
    "key = generate_key_hex(t)\n",
    "en_t = en_de_crypt(t, key)\n",
    "de_t = en_de_crypt(en_t, key)\n",
    "keys_t_f = find_possible_key(en_t, 'С Новым')\n",
    "fragment = \"С Новым\"\n",
    "print('Открытый текст: ', t, \"\\nКлюч: \", key, '\\nШифротекст: ', en_t, '\\nИсходный текст: ', de_t,)\n",
    "\n",
    "print('Возможные ключи: ', keys_t_f)\n",
    "print('Расшифрованный фрагмент: ', en_de_crypt(en_t, keys_t_f[0]))"
   ]
  },
  {
   "cell_type": "code",
   "execution_count": null,
   "id": "9b4d89ed-6390-4ab4-9173-3a538bb95264",
   "metadata": {},
   "outputs": [],
   "source": []
  }
 ],
 "metadata": {
  "kernelspec": {
   "display_name": "Python 3 (ipykernel)",
   "language": "python",
   "name": "python3"
  },
  "language_info": {
   "codemirror_mode": {
    "name": "ipython",
    "version": 3
   },
   "file_extension": ".py",
   "mimetype": "text/x-python",
   "name": "python",
   "nbconvert_exporter": "python",
   "pygments_lexer": "ipython3",
   "version": "3.12.3"
  }
 },
 "nbformat": 4,
 "nbformat_minor": 5
}
